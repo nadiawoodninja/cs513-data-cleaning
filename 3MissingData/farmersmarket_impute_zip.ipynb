{
 "cells": [
  {
   "cell_type": "code",
   "execution_count": 23,
   "id": "10b2892a",
   "metadata": {},
   "outputs": [],
   "source": [
    "import sys\n",
    "import urllib.request\n",
    "import json\n",
    "import pandas as pd\n",
    "import numpy as np"
   ]
  },
  {
   "cell_type": "code",
   "execution_count": 24,
   "id": "f64988b5",
   "metadata": {},
   "outputs": [],
   "source": [
    "df = pd.read_csv(\"../3MissingData/farmersmarkets_imputed.csv\")"
   ]
  },
  {
   "cell_type": "code",
   "execution_count": 25,
   "id": "94be1f7b",
   "metadata": {},
   "outputs": [],
   "source": [
    "url = 'https://api.tomtom.com/search/2/reverseGeocode/{geocode}.json?key=Y86v3lNqi3XRTCZoeR616WLfyCSSmg14'\n",
    "for index, row in df.iterrows():\n",
    "        if ((row['zip'] is np.nan) and not np.isnan(row['Latitude']) and not np.isnan(row['Longitude'])):\n",
    "            tobereplaced = str(row['Latitude'])+\",\"+str(row['Longitude'])\n",
    "            url1 = url.replace(\"{geocode}\",tobereplaced)\n",
    "            print(url1)\n",
    "            req = urllib.request.urlopen(url1)\n",
    "            data = req.read().decode('utf-8')\n",
    "            obj = json.loads(data)\n",
    "            zip1 = str(obj[\"addresses\"][0][\"address\"][\"postalCode\"])\n",
    "            df.loc[index,'zip']=zip1\n",
    "df.to_csv('../3MissingData/farmersmarkets_imputed.csv',index=False)"
   ]
  },
  {
   "cell_type": "code",
   "execution_count": null,
   "id": "04151a3e",
   "metadata": {},
   "outputs": [],
   "source": []
  }
 ],
 "metadata": {
  "kernelspec": {
   "display_name": "Python 3 (ipykernel)",
   "language": "python",
   "name": "python3"
  },
  "language_info": {
   "codemirror_mode": {
    "name": "ipython",
    "version": 3
   },
   "file_extension": ".py",
   "mimetype": "text/x-python",
   "name": "python",
   "nbconvert_exporter": "python",
   "pygments_lexer": "ipython3",
   "version": "3.9.7"
  }
 },
 "nbformat": 4,
 "nbformat_minor": 5
}
