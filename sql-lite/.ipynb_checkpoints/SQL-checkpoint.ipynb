{
 "cells": [
  {
   "cell_type": "code",
   "execution_count": 1,
   "metadata": {},
   "outputs": [],
   "source": [
    "import sqlite3\n",
    "import os\n",
    "import pandas as pd"
   ]
  },
  {
   "cell_type": "code",
   "execution_count": 4,
   "metadata": {
    "scrolled": true
   },
   "outputs": [
    {
     "ename": "ModuleNotFoundError",
     "evalue": "No module named 'sql'",
     "output_type": "error",
     "traceback": [
      "\u001b[0;31m---------------------------------------------------------------------------\u001b[0m",
      "\u001b[0;31mModuleNotFoundError\u001b[0m                       Traceback (most recent call last)",
      "\u001b[0;32m/var/folders/08/c9rv0grs1sbbqhwlkv_0k9c80000gp/T/ipykernel_32443/21229169.py\u001b[0m in \u001b[0;36m<module>\u001b[0;34m\u001b[0m\n\u001b[0;32m----> 1\u001b[0;31m \u001b[0mget_ipython\u001b[0m\u001b[0;34m(\u001b[0m\u001b[0;34m)\u001b[0m\u001b[0;34m.\u001b[0m\u001b[0mrun_line_magic\u001b[0m\u001b[0;34m(\u001b[0m\u001b[0;34m'reload_ext'\u001b[0m\u001b[0;34m,\u001b[0m \u001b[0;34m'sql'\u001b[0m\u001b[0;34m)\u001b[0m\u001b[0;34m\u001b[0m\u001b[0;34m\u001b[0m\u001b[0m\n\u001b[0m\u001b[1;32m      2\u001b[0m \u001b[0;31m# %reload_ext lib.sqlite.sqlite_evaluate_magic\u001b[0m\u001b[0;34m\u001b[0m\u001b[0;34m\u001b[0m\u001b[0m\n",
      "\u001b[0;32m/opt/anaconda3/lib/python3.9/site-packages/IPython/core/interactiveshell.py\u001b[0m in \u001b[0;36mrun_line_magic\u001b[0;34m(self, magic_name, line, _stack_depth)\u001b[0m\n\u001b[1;32m   2349\u001b[0m                 \u001b[0mkwargs\u001b[0m\u001b[0;34m[\u001b[0m\u001b[0;34m'local_ns'\u001b[0m\u001b[0;34m]\u001b[0m \u001b[0;34m=\u001b[0m \u001b[0mself\u001b[0m\u001b[0;34m.\u001b[0m\u001b[0mget_local_scope\u001b[0m\u001b[0;34m(\u001b[0m\u001b[0mstack_depth\u001b[0m\u001b[0;34m)\u001b[0m\u001b[0;34m\u001b[0m\u001b[0;34m\u001b[0m\u001b[0m\n\u001b[1;32m   2350\u001b[0m             \u001b[0;32mwith\u001b[0m \u001b[0mself\u001b[0m\u001b[0;34m.\u001b[0m\u001b[0mbuiltin_trap\u001b[0m\u001b[0;34m:\u001b[0m\u001b[0;34m\u001b[0m\u001b[0;34m\u001b[0m\u001b[0m\n\u001b[0;32m-> 2351\u001b[0;31m                 \u001b[0mresult\u001b[0m \u001b[0;34m=\u001b[0m \u001b[0mfn\u001b[0m\u001b[0;34m(\u001b[0m\u001b[0;34m*\u001b[0m\u001b[0margs\u001b[0m\u001b[0;34m,\u001b[0m \u001b[0;34m**\u001b[0m\u001b[0mkwargs\u001b[0m\u001b[0;34m)\u001b[0m\u001b[0;34m\u001b[0m\u001b[0;34m\u001b[0m\u001b[0m\n\u001b[0m\u001b[1;32m   2352\u001b[0m             \u001b[0;32mreturn\u001b[0m \u001b[0mresult\u001b[0m\u001b[0;34m\u001b[0m\u001b[0;34m\u001b[0m\u001b[0m\n\u001b[1;32m   2353\u001b[0m \u001b[0;34m\u001b[0m\u001b[0m\n",
      "\u001b[0;32m/opt/anaconda3/lib/python3.9/site-packages/decorator.py\u001b[0m in \u001b[0;36mfun\u001b[0;34m(*args, **kw)\u001b[0m\n\u001b[1;32m    230\u001b[0m             \u001b[0;32mif\u001b[0m \u001b[0;32mnot\u001b[0m \u001b[0mkwsyntax\u001b[0m\u001b[0;34m:\u001b[0m\u001b[0;34m\u001b[0m\u001b[0;34m\u001b[0m\u001b[0m\n\u001b[1;32m    231\u001b[0m                 \u001b[0margs\u001b[0m\u001b[0;34m,\u001b[0m \u001b[0mkw\u001b[0m \u001b[0;34m=\u001b[0m \u001b[0mfix\u001b[0m\u001b[0;34m(\u001b[0m\u001b[0margs\u001b[0m\u001b[0;34m,\u001b[0m \u001b[0mkw\u001b[0m\u001b[0;34m,\u001b[0m \u001b[0msig\u001b[0m\u001b[0;34m)\u001b[0m\u001b[0;34m\u001b[0m\u001b[0;34m\u001b[0m\u001b[0m\n\u001b[0;32m--> 232\u001b[0;31m             \u001b[0;32mreturn\u001b[0m \u001b[0mcaller\u001b[0m\u001b[0;34m(\u001b[0m\u001b[0mfunc\u001b[0m\u001b[0;34m,\u001b[0m \u001b[0;34m*\u001b[0m\u001b[0;34m(\u001b[0m\u001b[0mextras\u001b[0m \u001b[0;34m+\u001b[0m \u001b[0margs\u001b[0m\u001b[0;34m)\u001b[0m\u001b[0;34m,\u001b[0m \u001b[0;34m**\u001b[0m\u001b[0mkw\u001b[0m\u001b[0;34m)\u001b[0m\u001b[0;34m\u001b[0m\u001b[0;34m\u001b[0m\u001b[0m\n\u001b[0m\u001b[1;32m    233\u001b[0m     \u001b[0mfun\u001b[0m\u001b[0;34m.\u001b[0m\u001b[0m__name__\u001b[0m \u001b[0;34m=\u001b[0m \u001b[0mfunc\u001b[0m\u001b[0;34m.\u001b[0m\u001b[0m__name__\u001b[0m\u001b[0;34m\u001b[0m\u001b[0;34m\u001b[0m\u001b[0m\n\u001b[1;32m    234\u001b[0m     \u001b[0mfun\u001b[0m\u001b[0;34m.\u001b[0m\u001b[0m__doc__\u001b[0m \u001b[0;34m=\u001b[0m \u001b[0mfunc\u001b[0m\u001b[0;34m.\u001b[0m\u001b[0m__doc__\u001b[0m\u001b[0;34m\u001b[0m\u001b[0;34m\u001b[0m\u001b[0m\n",
      "\u001b[0;32m/opt/anaconda3/lib/python3.9/site-packages/IPython/core/magic.py\u001b[0m in \u001b[0;36m<lambda>\u001b[0;34m(f, *a, **k)\u001b[0m\n\u001b[1;32m    185\u001b[0m     \u001b[0;31m# but it's overkill for just that one bit of state.\u001b[0m\u001b[0;34m\u001b[0m\u001b[0;34m\u001b[0m\u001b[0m\n\u001b[1;32m    186\u001b[0m     \u001b[0;32mdef\u001b[0m \u001b[0mmagic_deco\u001b[0m\u001b[0;34m(\u001b[0m\u001b[0marg\u001b[0m\u001b[0;34m)\u001b[0m\u001b[0;34m:\u001b[0m\u001b[0;34m\u001b[0m\u001b[0;34m\u001b[0m\u001b[0m\n\u001b[0;32m--> 187\u001b[0;31m         \u001b[0mcall\u001b[0m \u001b[0;34m=\u001b[0m \u001b[0;32mlambda\u001b[0m \u001b[0mf\u001b[0m\u001b[0;34m,\u001b[0m \u001b[0;34m*\u001b[0m\u001b[0ma\u001b[0m\u001b[0;34m,\u001b[0m \u001b[0;34m**\u001b[0m\u001b[0mk\u001b[0m\u001b[0;34m:\u001b[0m \u001b[0mf\u001b[0m\u001b[0;34m(\u001b[0m\u001b[0;34m*\u001b[0m\u001b[0ma\u001b[0m\u001b[0;34m,\u001b[0m \u001b[0;34m**\u001b[0m\u001b[0mk\u001b[0m\u001b[0;34m)\u001b[0m\u001b[0;34m\u001b[0m\u001b[0;34m\u001b[0m\u001b[0m\n\u001b[0m\u001b[1;32m    188\u001b[0m \u001b[0;34m\u001b[0m\u001b[0m\n\u001b[1;32m    189\u001b[0m         \u001b[0;32mif\u001b[0m \u001b[0mcallable\u001b[0m\u001b[0;34m(\u001b[0m\u001b[0marg\u001b[0m\u001b[0;34m)\u001b[0m\u001b[0;34m:\u001b[0m\u001b[0;34m\u001b[0m\u001b[0;34m\u001b[0m\u001b[0m\n",
      "\u001b[0;32m/opt/anaconda3/lib/python3.9/site-packages/IPython/core/magics/extension.py\u001b[0m in \u001b[0;36mreload_ext\u001b[0;34m(self, module_str)\u001b[0m\n\u001b[1;32m     61\u001b[0m         \u001b[0;32mif\u001b[0m \u001b[0;32mnot\u001b[0m \u001b[0mmodule_str\u001b[0m\u001b[0;34m:\u001b[0m\u001b[0;34m\u001b[0m\u001b[0;34m\u001b[0m\u001b[0m\n\u001b[1;32m     62\u001b[0m             \u001b[0;32mraise\u001b[0m \u001b[0mUsageError\u001b[0m\u001b[0;34m(\u001b[0m\u001b[0;34m'Missing module name.'\u001b[0m\u001b[0;34m)\u001b[0m\u001b[0;34m\u001b[0m\u001b[0;34m\u001b[0m\u001b[0m\n\u001b[0;32m---> 63\u001b[0;31m         \u001b[0mself\u001b[0m\u001b[0;34m.\u001b[0m\u001b[0mshell\u001b[0m\u001b[0;34m.\u001b[0m\u001b[0mextension_manager\u001b[0m\u001b[0;34m.\u001b[0m\u001b[0mreload_extension\u001b[0m\u001b[0;34m(\u001b[0m\u001b[0mmodule_str\u001b[0m\u001b[0;34m)\u001b[0m\u001b[0;34m\u001b[0m\u001b[0;34m\u001b[0m\u001b[0m\n\u001b[0m",
      "\u001b[0;32m/opt/anaconda3/lib/python3.9/site-packages/IPython/core/extensions.py\u001b[0m in \u001b[0;36mreload_extension\u001b[0;34m(self, module_str)\u001b[0m\n\u001b[1;32m    128\u001b[0m                 \u001b[0mself\u001b[0m\u001b[0;34m.\u001b[0m\u001b[0mloaded\u001b[0m\u001b[0;34m.\u001b[0m\u001b[0madd\u001b[0m\u001b[0;34m(\u001b[0m\u001b[0mmodule_str\u001b[0m\u001b[0;34m)\u001b[0m\u001b[0;34m\u001b[0m\u001b[0;34m\u001b[0m\u001b[0m\n\u001b[1;32m    129\u001b[0m         \u001b[0;32melse\u001b[0m\u001b[0;34m:\u001b[0m\u001b[0;34m\u001b[0m\u001b[0;34m\u001b[0m\u001b[0m\n\u001b[0;32m--> 130\u001b[0;31m             \u001b[0mself\u001b[0m\u001b[0;34m.\u001b[0m\u001b[0mload_extension\u001b[0m\u001b[0;34m(\u001b[0m\u001b[0mmodule_str\u001b[0m\u001b[0;34m)\u001b[0m\u001b[0;34m\u001b[0m\u001b[0;34m\u001b[0m\u001b[0m\n\u001b[0m\u001b[1;32m    131\u001b[0m \u001b[0;34m\u001b[0m\u001b[0m\n\u001b[1;32m    132\u001b[0m     \u001b[0;32mdef\u001b[0m \u001b[0m_call_load_ipython_extension\u001b[0m\u001b[0;34m(\u001b[0m\u001b[0mself\u001b[0m\u001b[0;34m,\u001b[0m \u001b[0mmod\u001b[0m\u001b[0;34m)\u001b[0m\u001b[0;34m:\u001b[0m\u001b[0;34m\u001b[0m\u001b[0;34m\u001b[0m\u001b[0m\n",
      "\u001b[0;32m/opt/anaconda3/lib/python3.9/site-packages/IPython/core/extensions.py\u001b[0m in \u001b[0;36mload_extension\u001b[0;34m(self, module_str)\u001b[0m\n\u001b[1;32m     78\u001b[0m             \u001b[0;32mif\u001b[0m \u001b[0mmodule_str\u001b[0m \u001b[0;32mnot\u001b[0m \u001b[0;32min\u001b[0m \u001b[0msys\u001b[0m\u001b[0;34m.\u001b[0m\u001b[0mmodules\u001b[0m\u001b[0;34m:\u001b[0m\u001b[0;34m\u001b[0m\u001b[0;34m\u001b[0m\u001b[0m\n\u001b[1;32m     79\u001b[0m                 \u001b[0;32mwith\u001b[0m \u001b[0mprepended_to_syspath\u001b[0m\u001b[0;34m(\u001b[0m\u001b[0mself\u001b[0m\u001b[0;34m.\u001b[0m\u001b[0mipython_extension_dir\u001b[0m\u001b[0;34m)\u001b[0m\u001b[0;34m:\u001b[0m\u001b[0;34m\u001b[0m\u001b[0;34m\u001b[0m\u001b[0m\n\u001b[0;32m---> 80\u001b[0;31m                     \u001b[0mmod\u001b[0m \u001b[0;34m=\u001b[0m \u001b[0mimport_module\u001b[0m\u001b[0;34m(\u001b[0m\u001b[0mmodule_str\u001b[0m\u001b[0;34m)\u001b[0m\u001b[0;34m\u001b[0m\u001b[0;34m\u001b[0m\u001b[0m\n\u001b[0m\u001b[1;32m     81\u001b[0m                     \u001b[0;32mif\u001b[0m \u001b[0mmod\u001b[0m\u001b[0;34m.\u001b[0m\u001b[0m__file__\u001b[0m\u001b[0;34m.\u001b[0m\u001b[0mstartswith\u001b[0m\u001b[0;34m(\u001b[0m\u001b[0mself\u001b[0m\u001b[0;34m.\u001b[0m\u001b[0mipython_extension_dir\u001b[0m\u001b[0;34m)\u001b[0m\u001b[0;34m:\u001b[0m\u001b[0;34m\u001b[0m\u001b[0;34m\u001b[0m\u001b[0m\n\u001b[1;32m     82\u001b[0m                         print((\"Loading extensions from {dir} is deprecated. \"\n",
      "\u001b[0;32m/opt/anaconda3/lib/python3.9/importlib/__init__.py\u001b[0m in \u001b[0;36mimport_module\u001b[0;34m(name, package)\u001b[0m\n\u001b[1;32m    125\u001b[0m                 \u001b[0;32mbreak\u001b[0m\u001b[0;34m\u001b[0m\u001b[0;34m\u001b[0m\u001b[0m\n\u001b[1;32m    126\u001b[0m             \u001b[0mlevel\u001b[0m \u001b[0;34m+=\u001b[0m \u001b[0;36m1\u001b[0m\u001b[0;34m\u001b[0m\u001b[0;34m\u001b[0m\u001b[0m\n\u001b[0;32m--> 127\u001b[0;31m     \u001b[0;32mreturn\u001b[0m \u001b[0m_bootstrap\u001b[0m\u001b[0;34m.\u001b[0m\u001b[0m_gcd_import\u001b[0m\u001b[0;34m(\u001b[0m\u001b[0mname\u001b[0m\u001b[0;34m[\u001b[0m\u001b[0mlevel\u001b[0m\u001b[0;34m:\u001b[0m\u001b[0;34m]\u001b[0m\u001b[0;34m,\u001b[0m \u001b[0mpackage\u001b[0m\u001b[0;34m,\u001b[0m \u001b[0mlevel\u001b[0m\u001b[0;34m)\u001b[0m\u001b[0;34m\u001b[0m\u001b[0;34m\u001b[0m\u001b[0m\n\u001b[0m\u001b[1;32m    128\u001b[0m \u001b[0;34m\u001b[0m\u001b[0m\n\u001b[1;32m    129\u001b[0m \u001b[0;34m\u001b[0m\u001b[0m\n",
      "\u001b[0;32m/opt/anaconda3/lib/python3.9/importlib/_bootstrap.py\u001b[0m in \u001b[0;36m_gcd_import\u001b[0;34m(name, package, level)\u001b[0m\n",
      "\u001b[0;32m/opt/anaconda3/lib/python3.9/importlib/_bootstrap.py\u001b[0m in \u001b[0;36m_find_and_load\u001b[0;34m(name, import_)\u001b[0m\n",
      "\u001b[0;32m/opt/anaconda3/lib/python3.9/importlib/_bootstrap.py\u001b[0m in \u001b[0;36m_find_and_load_unlocked\u001b[0;34m(name, import_)\u001b[0m\n",
      "\u001b[0;31mModuleNotFoundError\u001b[0m: No module named 'sql'"
     ]
    }
   ],
   "source": [
    "%reload_ext sql\n",
    "# %reload_ext lib.sqlite.sqlite_evaluate_magic"
   ]
  },
  {
   "cell_type": "code",
   "execution_count": 11,
   "metadata": {},
   "outputs": [
    {
     "name": "stdout",
     "output_type": "stream",
     "text": [
      "/Users/nadiawood/Documents/GitHub/cs513-data-cleaning/SQL\n",
      "OpenRefine\n",
      "farmeresmarkets_payments.csv\n",
      "farmersMarket_location.csv\n",
      "farmersmarket_impute_zip.ipynb\n",
      "farmersmarkets_output.csv\n",
      "farmersmarkets_products.csv\n"
     ]
    }
   ],
   "source": [
    "%%bash\n",
    "pwd\n",
    "ls ../2CleanedData"
   ]
  },
  {
   "cell_type": "code",
   "execution_count": 12,
   "metadata": {},
   "outputs": [],
   "source": [
    "df = pd.read_csv(\"../2CleanedData/farmersMarket_location.csv\")"
   ]
  },
  {
   "cell_type": "code",
   "execution_count": 13,
   "metadata": {},
   "outputs": [
    {
     "data": {
      "text/plain": [
       "(8675, 10)"
      ]
     },
     "execution_count": 13,
     "metadata": {},
     "output_type": "execute_result"
    }
   ],
   "source": [
    "df.shape"
   ]
  },
  {
   "cell_type": "markdown",
   "metadata": {},
   "source": [
    "## Commands for sqllite"
   ]
  },
  {
   "cell_type": "code",
   "execution_count": 14,
   "metadata": {},
   "outputs": [
    {
     "name": "stderr",
     "output_type": "stream",
     "text": [
      "Error: cannot open \"/Users/nadiawood/Documents/GitHub/cs513-data-cleaning/2CleanedData/farmersmarkets_payments.csv\"\n"
     ]
    },
    {
     "ename": "CalledProcessError",
     "evalue": "Command 'b'sqlite3 ./farmersmarkets.db\\n\\n.header on\\n.mode csv\\n\\n\\nCREATE TABLE location(\\n\\t\"FMID\"\\t\\t\\tINT PRIMARY KEY NOT NULL,\\n\\t\"MarketName\" \\tTEXT,\\n\\t\"street\"\\t\\tTEXT,\\n\\t\"City\"\\t\\t\\tTEXT,\\n\\t\"County\"\\t\\tTEXT,\\n\\t\"State\"\\t\\t\\tTEXT,\\n\\t\"zip\"\\t\\t\\tTEXT,\\n\\t\"latitude\"\\t\\tREAL,\\n\\t\"longitude\"\\t\\tREAL,\\n\\t\"updateTime\"\\tDATETIME\\n);\\n.import /Users/nadiawood/Documents/GitHub/cs513-data-cleaning/2CleanedData/farmersMarket_location.csv location\\n\\nCREATE TABLE payments(\\n\\t\"FMID\"\\t\\t\\tINT PRIMARY KEY NOT NULL,\\n\\t\"Credit\"\\t\\tCHAR(1),\\n\\t\"WIC\"\\t\\t\\tCHAR(1),\\n\\t\"WICcash\"\\t\\tCHAR(1),\\n\\t\"SFMNP\"\\t\\t\\tCHAR(1),\\n\\t\"SNAP\"\\t\\t\\tCHAR(1)\\n);\\n.import /Users/nadiawood/Documents/GitHub/cs513-data-cleaning/2CleanedData/farmersmarkets_payments.csv payments\\n\\nCREATE TABLE products(\\n\\t\"FMID\"\\t\\t\\tINT PRIMARY KEY NOT NULL,\\n\\t\"Organic\"\\t\\tCHAR(1),\\n\\t\"Bakedgoods\"\\tCHAR(1),\\n\\t\"Cheese\"\\t\\tCHAR(1),\\n\\t\"Crafts\"\\t\\tCHAR(1),\\n\\t\"Flowers\"\\t\\tCHAR(1),\\n\\t\"Eggs\"\\t\\t\\tCHAR(1),\\n\\t\"Seafood\"\\t\\tCHAR(1),\\n\\t\"Herbs\"\\t\\t\\tCHAR(1),\\n\\t\"Vegetables\"\\tCHAR(1),\\n\\t\"Honey\"\\t\\t\\tCHAR(1),\\n\\t\"Jams\"\\t\\t\\tCHAR(1),\\n\\t\"Maple\"\\t\\t\\tCHAR(1),\\n\\t\"Meat\"\\t\\t\\tCHAR(1),\\n\\t\"Nursery\"\\t\\tCHAR(1),\\n\\t\"Nuts\"\\t\\t\\tCHAR(1),\\n\\t\"Plants\"\\t\\tCHAR(1),\\n\\t\"Poultry\"\\t\\tCHAR(1),\\n\\t\"Prepared\"\\t\\tCHAR(1),\\n\\t\"Soap\"\\t\\t\\tCHAR(1),\\n\\t\"Trees\"\\t\\t\\tCHAR(1),\\n\\t\"Wine\"\\t\\t\\tCHAR(1),\\n\\t\"Coffee\"\\t\\tCHAR(1),\\n\\t\"Beans\"\\t\\t\\tCHAR(1),\\n\\t\"Fruits\"\\t\\tCHAR(1),\\n\\t\"Grains\"\\t\\tCHAR(1),\\n\\t\"Juices\"\\t\\tCHAR(1),\\n\\t\"Mushrooms\"\\t\\tCHAR(1),\\n\\t\"PetFood\"\\t\\tCHAR(1),\\n\\t\"Tofu\"\\t\\t\\tCHAR(1),\\n\\t\"WildHarvested\"\\tCHAR(1)\\n);\\n.import /Users/nadiawood/Documents/GitHub/cs513-data-cleaning/2CleanedData/farmersmarkets_products.csv products\\n\\n.output ./farmersmarkets.sql\\n.dump\\n'' returned non-zero exit status 1.",
     "output_type": "error",
     "traceback": [
      "\u001b[0;31m---------------------------------------------------------------------------\u001b[0m",
      "\u001b[0;31mCalledProcessError\u001b[0m                        Traceback (most recent call last)",
      "\u001b[0;32m/var/folders/08/c9rv0grs1sbbqhwlkv_0k9c80000gp/T/ipykernel_32443/3863080616.py\u001b[0m in \u001b[0;36m<module>\u001b[0;34m\u001b[0m\n\u001b[0;32m----> 1\u001b[0;31m \u001b[0mget_ipython\u001b[0m\u001b[0;34m(\u001b[0m\u001b[0;34m)\u001b[0m\u001b[0;34m.\u001b[0m\u001b[0mrun_cell_magic\u001b[0m\u001b[0;34m(\u001b[0m\u001b[0;34m'bash'\u001b[0m\u001b[0;34m,\u001b[0m \u001b[0;34m''\u001b[0m\u001b[0;34m,\u001b[0m \u001b[0;34m'sqlite3 ./farmersmarkets.db\\n\\n.header on\\n.mode csv\\n\\n\\nCREATE TABLE location(\\n\\t\"FMID\"\\t\\t\\tINT PRIMARY KEY NOT NULL,\\n\\t\"MarketName\" \\tTEXT,\\n\\t\"street\"\\t\\tTEXT,\\n\\t\"City\"\\t\\t\\tTEXT,\\n\\t\"County\"\\t\\tTEXT,\\n\\t\"State\"\\t\\t\\tTEXT,\\n\\t\"zip\"\\t\\t\\tTEXT,\\n\\t\"latitude\"\\t\\tREAL,\\n\\t\"longitude\"\\t\\tREAL,\\n\\t\"updateTime\"\\tDATETIME\\n);\\n.import /Users/nadiawood/Documents/GitHub/cs513-data-cleaning/2CleanedData/farmersMarket_location.csv location\\n\\nCREATE TABLE payments(\\n\\t\"FMID\"\\t\\t\\tINT PRIMARY KEY NOT NULL,\\n\\t\"Credit\"\\t\\tCHAR(1),\\n\\t\"WIC\"\\t\\t\\tCHAR(1),\\n\\t\"WICcash\"\\t\\tCHAR(1),\\n\\t\"SFMNP\"\\t\\t\\tCHAR(1),\\n\\t\"SNAP\"\\t\\t\\tCHAR(1)\\n);\\n.import /Users/nadiawood/Documents/GitHub/cs513-data-cleaning/2CleanedData/farmersmarkets_payments.csv payments\\n\\nCREATE TABLE products(\\n\\t\"FMID\"\\t\\t\\tINT PRIMARY KEY NOT NULL,\\n\\t\"Organic\"\\t\\tCHAR(1),\\n\\t\"Bakedgoods\"\\tCHAR(1),\\n\\t\"Cheese\"\\t\\tCHAR(1),\\n\\t\"Crafts\"\\t\\tCHAR(1),\\n\\t\"Flowers\"\\t\\tCHAR(1),\\n\\t\"Eggs\"\\t\\t\\tCHAR(1),\\n\\t\"Seafood\"\\t\\tCHAR(1),\\n\\t\"Herbs\"\\t\\t\\tCHAR(1),\\n\\t\"Vegetables\"\\tCHAR(1),\\n\\t\"Honey\"\\t\\t\\tCHAR(1),\\n\\t\"Jams\"\\t\\t\\tCHAR(1),\\n\\t\"Maple\"\\t\\t\\tCHAR(1),\\n\\t\"Meat\"\\t\\t\\tCHAR(1),\\n\\t\"Nursery\"\\t\\tCHAR(1),\\n\\t\"Nuts\"\\t\\t\\tCHAR(1),\\n\\t\"Plants\"\\t\\tCHAR(1),\\n\\t\"Poultry\"\\t\\tCHAR(1),\\n\\t\"Prepared\"\\t\\tCHAR(1),\\n\\t\"Soap\"\\t\\t\\tCHAR(1),\\n\\t\"Trees\"\\t\\t\\tCHAR(1),\\n\\t\"Wine\"\\t\\t\\tCHAR(1),\\n\\t\"Coffee\"\\t\\tCHAR(1),\\n\\t\"Beans\"\\t\\t\\tCHAR(1),\\n\\t\"Fruits\"\\t\\tCHAR(1),\\n\\t\"Grains\"\\t\\tCHAR(1),\\n\\t\"Juices\"\\t\\tCHAR(1),\\n\\t\"Mushrooms\"\\t\\tCHAR(1),\\n\\t\"PetFood\"\\t\\tCHAR(1),\\n\\t\"Tofu\"\\t\\t\\tCHAR(1),\\n\\t\"WildHarvested\"\\tCHAR(1)\\n);\\n.import /Users/nadiawood/Documents/GitHub/cs513-data-cleaning/2CleanedData/farmersmarkets_products.csv products\\n\\n.output ./farmersmarkets.sql\\n.dump\\n'\u001b[0m\u001b[0;34m)\u001b[0m\u001b[0;34m\u001b[0m\u001b[0;34m\u001b[0m\u001b[0m\n\u001b[0m",
      "\u001b[0;32m/opt/anaconda3/lib/python3.9/site-packages/IPython/core/interactiveshell.py\u001b[0m in \u001b[0;36mrun_cell_magic\u001b[0;34m(self, magic_name, line, cell)\u001b[0m\n\u001b[1;32m   2404\u001b[0m             \u001b[0;32mwith\u001b[0m \u001b[0mself\u001b[0m\u001b[0;34m.\u001b[0m\u001b[0mbuiltin_trap\u001b[0m\u001b[0;34m:\u001b[0m\u001b[0;34m\u001b[0m\u001b[0;34m\u001b[0m\u001b[0m\n\u001b[1;32m   2405\u001b[0m                 \u001b[0margs\u001b[0m \u001b[0;34m=\u001b[0m \u001b[0;34m(\u001b[0m\u001b[0mmagic_arg_s\u001b[0m\u001b[0;34m,\u001b[0m \u001b[0mcell\u001b[0m\u001b[0;34m)\u001b[0m\u001b[0;34m\u001b[0m\u001b[0;34m\u001b[0m\u001b[0m\n\u001b[0;32m-> 2406\u001b[0;31m                 \u001b[0mresult\u001b[0m \u001b[0;34m=\u001b[0m \u001b[0mfn\u001b[0m\u001b[0;34m(\u001b[0m\u001b[0;34m*\u001b[0m\u001b[0margs\u001b[0m\u001b[0;34m,\u001b[0m \u001b[0;34m**\u001b[0m\u001b[0mkwargs\u001b[0m\u001b[0;34m)\u001b[0m\u001b[0;34m\u001b[0m\u001b[0;34m\u001b[0m\u001b[0m\n\u001b[0m\u001b[1;32m   2407\u001b[0m             \u001b[0;32mreturn\u001b[0m \u001b[0mresult\u001b[0m\u001b[0;34m\u001b[0m\u001b[0;34m\u001b[0m\u001b[0m\n\u001b[1;32m   2408\u001b[0m \u001b[0;34m\u001b[0m\u001b[0m\n",
      "\u001b[0;32m/opt/anaconda3/lib/python3.9/site-packages/IPython/core/magics/script.py\u001b[0m in \u001b[0;36mnamed_script_magic\u001b[0;34m(line, cell)\u001b[0m\n\u001b[1;32m    140\u001b[0m             \u001b[0;32melse\u001b[0m\u001b[0;34m:\u001b[0m\u001b[0;34m\u001b[0m\u001b[0;34m\u001b[0m\u001b[0m\n\u001b[1;32m    141\u001b[0m                 \u001b[0mline\u001b[0m \u001b[0;34m=\u001b[0m \u001b[0mscript\u001b[0m\u001b[0;34m\u001b[0m\u001b[0;34m\u001b[0m\u001b[0m\n\u001b[0;32m--> 142\u001b[0;31m             \u001b[0;32mreturn\u001b[0m \u001b[0mself\u001b[0m\u001b[0;34m.\u001b[0m\u001b[0mshebang\u001b[0m\u001b[0;34m(\u001b[0m\u001b[0mline\u001b[0m\u001b[0;34m,\u001b[0m \u001b[0mcell\u001b[0m\u001b[0;34m)\u001b[0m\u001b[0;34m\u001b[0m\u001b[0;34m\u001b[0m\u001b[0m\n\u001b[0m\u001b[1;32m    143\u001b[0m \u001b[0;34m\u001b[0m\u001b[0m\n\u001b[1;32m    144\u001b[0m         \u001b[0;31m# write a basic docstring:\u001b[0m\u001b[0;34m\u001b[0m\u001b[0;34m\u001b[0m\u001b[0m\n",
      "\u001b[0;32m/opt/anaconda3/lib/python3.9/site-packages/decorator.py\u001b[0m in \u001b[0;36mfun\u001b[0;34m(*args, **kw)\u001b[0m\n\u001b[1;32m    230\u001b[0m             \u001b[0;32mif\u001b[0m \u001b[0;32mnot\u001b[0m \u001b[0mkwsyntax\u001b[0m\u001b[0;34m:\u001b[0m\u001b[0;34m\u001b[0m\u001b[0;34m\u001b[0m\u001b[0m\n\u001b[1;32m    231\u001b[0m                 \u001b[0margs\u001b[0m\u001b[0;34m,\u001b[0m \u001b[0mkw\u001b[0m \u001b[0;34m=\u001b[0m \u001b[0mfix\u001b[0m\u001b[0;34m(\u001b[0m\u001b[0margs\u001b[0m\u001b[0;34m,\u001b[0m \u001b[0mkw\u001b[0m\u001b[0;34m,\u001b[0m \u001b[0msig\u001b[0m\u001b[0;34m)\u001b[0m\u001b[0;34m\u001b[0m\u001b[0;34m\u001b[0m\u001b[0m\n\u001b[0;32m--> 232\u001b[0;31m             \u001b[0;32mreturn\u001b[0m \u001b[0mcaller\u001b[0m\u001b[0;34m(\u001b[0m\u001b[0mfunc\u001b[0m\u001b[0;34m,\u001b[0m \u001b[0;34m*\u001b[0m\u001b[0;34m(\u001b[0m\u001b[0mextras\u001b[0m \u001b[0;34m+\u001b[0m \u001b[0margs\u001b[0m\u001b[0;34m)\u001b[0m\u001b[0;34m,\u001b[0m \u001b[0;34m**\u001b[0m\u001b[0mkw\u001b[0m\u001b[0;34m)\u001b[0m\u001b[0;34m\u001b[0m\u001b[0;34m\u001b[0m\u001b[0m\n\u001b[0m\u001b[1;32m    233\u001b[0m     \u001b[0mfun\u001b[0m\u001b[0;34m.\u001b[0m\u001b[0m__name__\u001b[0m \u001b[0;34m=\u001b[0m \u001b[0mfunc\u001b[0m\u001b[0;34m.\u001b[0m\u001b[0m__name__\u001b[0m\u001b[0;34m\u001b[0m\u001b[0;34m\u001b[0m\u001b[0m\n\u001b[1;32m    234\u001b[0m     \u001b[0mfun\u001b[0m\u001b[0;34m.\u001b[0m\u001b[0m__doc__\u001b[0m \u001b[0;34m=\u001b[0m \u001b[0mfunc\u001b[0m\u001b[0;34m.\u001b[0m\u001b[0m__doc__\u001b[0m\u001b[0;34m\u001b[0m\u001b[0;34m\u001b[0m\u001b[0m\n",
      "\u001b[0;32m/opt/anaconda3/lib/python3.9/site-packages/IPython/core/magic.py\u001b[0m in \u001b[0;36m<lambda>\u001b[0;34m(f, *a, **k)\u001b[0m\n\u001b[1;32m    185\u001b[0m     \u001b[0;31m# but it's overkill for just that one bit of state.\u001b[0m\u001b[0;34m\u001b[0m\u001b[0;34m\u001b[0m\u001b[0m\n\u001b[1;32m    186\u001b[0m     \u001b[0;32mdef\u001b[0m \u001b[0mmagic_deco\u001b[0m\u001b[0;34m(\u001b[0m\u001b[0marg\u001b[0m\u001b[0;34m)\u001b[0m\u001b[0;34m:\u001b[0m\u001b[0;34m\u001b[0m\u001b[0;34m\u001b[0m\u001b[0m\n\u001b[0;32m--> 187\u001b[0;31m         \u001b[0mcall\u001b[0m \u001b[0;34m=\u001b[0m \u001b[0;32mlambda\u001b[0m \u001b[0mf\u001b[0m\u001b[0;34m,\u001b[0m \u001b[0;34m*\u001b[0m\u001b[0ma\u001b[0m\u001b[0;34m,\u001b[0m \u001b[0;34m**\u001b[0m\u001b[0mk\u001b[0m\u001b[0;34m:\u001b[0m \u001b[0mf\u001b[0m\u001b[0;34m(\u001b[0m\u001b[0;34m*\u001b[0m\u001b[0ma\u001b[0m\u001b[0;34m,\u001b[0m \u001b[0;34m**\u001b[0m\u001b[0mk\u001b[0m\u001b[0;34m)\u001b[0m\u001b[0;34m\u001b[0m\u001b[0;34m\u001b[0m\u001b[0m\n\u001b[0m\u001b[1;32m    188\u001b[0m \u001b[0;34m\u001b[0m\u001b[0m\n\u001b[1;32m    189\u001b[0m         \u001b[0;32mif\u001b[0m \u001b[0mcallable\u001b[0m\u001b[0;34m(\u001b[0m\u001b[0marg\u001b[0m\u001b[0;34m)\u001b[0m\u001b[0;34m:\u001b[0m\u001b[0;34m\u001b[0m\u001b[0;34m\u001b[0m\u001b[0m\n",
      "\u001b[0;32m/opt/anaconda3/lib/python3.9/site-packages/IPython/core/magics/script.py\u001b[0m in \u001b[0;36mshebang\u001b[0;34m(self, line, cell)\u001b[0m\n\u001b[1;32m    243\u001b[0m             \u001b[0msys\u001b[0m\u001b[0;34m.\u001b[0m\u001b[0mstderr\u001b[0m\u001b[0;34m.\u001b[0m\u001b[0mflush\u001b[0m\u001b[0;34m(\u001b[0m\u001b[0;34m)\u001b[0m\u001b[0;34m\u001b[0m\u001b[0;34m\u001b[0m\u001b[0m\n\u001b[1;32m    244\u001b[0m         \u001b[0;32mif\u001b[0m \u001b[0margs\u001b[0m\u001b[0;34m.\u001b[0m\u001b[0mraise_error\u001b[0m \u001b[0;32mand\u001b[0m \u001b[0mp\u001b[0m\u001b[0;34m.\u001b[0m\u001b[0mreturncode\u001b[0m\u001b[0;34m!=\u001b[0m\u001b[0;36m0\u001b[0m\u001b[0;34m:\u001b[0m\u001b[0;34m\u001b[0m\u001b[0;34m\u001b[0m\u001b[0m\n\u001b[0;32m--> 245\u001b[0;31m             \u001b[0;32mraise\u001b[0m \u001b[0mCalledProcessError\u001b[0m\u001b[0;34m(\u001b[0m\u001b[0mp\u001b[0m\u001b[0;34m.\u001b[0m\u001b[0mreturncode\u001b[0m\u001b[0;34m,\u001b[0m \u001b[0mcell\u001b[0m\u001b[0;34m,\u001b[0m \u001b[0moutput\u001b[0m\u001b[0;34m=\u001b[0m\u001b[0mout\u001b[0m\u001b[0;34m,\u001b[0m \u001b[0mstderr\u001b[0m\u001b[0;34m=\u001b[0m\u001b[0merr\u001b[0m\u001b[0;34m)\u001b[0m\u001b[0;34m\u001b[0m\u001b[0;34m\u001b[0m\u001b[0m\n\u001b[0m\u001b[1;32m    246\u001b[0m \u001b[0;34m\u001b[0m\u001b[0m\n\u001b[1;32m    247\u001b[0m     \u001b[0;32mdef\u001b[0m \u001b[0m_run_script\u001b[0m\u001b[0;34m(\u001b[0m\u001b[0mself\u001b[0m\u001b[0;34m,\u001b[0m \u001b[0mp\u001b[0m\u001b[0;34m,\u001b[0m \u001b[0mcell\u001b[0m\u001b[0;34m,\u001b[0m \u001b[0mto_close\u001b[0m\u001b[0;34m)\u001b[0m\u001b[0;34m:\u001b[0m\u001b[0;34m\u001b[0m\u001b[0;34m\u001b[0m\u001b[0m\n",
      "\u001b[0;31mCalledProcessError\u001b[0m: Command 'b'sqlite3 ./farmersmarkets.db\\n\\n.header on\\n.mode csv\\n\\n\\nCREATE TABLE location(\\n\\t\"FMID\"\\t\\t\\tINT PRIMARY KEY NOT NULL,\\n\\t\"MarketName\" \\tTEXT,\\n\\t\"street\"\\t\\tTEXT,\\n\\t\"City\"\\t\\t\\tTEXT,\\n\\t\"County\"\\t\\tTEXT,\\n\\t\"State\"\\t\\t\\tTEXT,\\n\\t\"zip\"\\t\\t\\tTEXT,\\n\\t\"latitude\"\\t\\tREAL,\\n\\t\"longitude\"\\t\\tREAL,\\n\\t\"updateTime\"\\tDATETIME\\n);\\n.import /Users/nadiawood/Documents/GitHub/cs513-data-cleaning/2CleanedData/farmersMarket_location.csv location\\n\\nCREATE TABLE payments(\\n\\t\"FMID\"\\t\\t\\tINT PRIMARY KEY NOT NULL,\\n\\t\"Credit\"\\t\\tCHAR(1),\\n\\t\"WIC\"\\t\\t\\tCHAR(1),\\n\\t\"WICcash\"\\t\\tCHAR(1),\\n\\t\"SFMNP\"\\t\\t\\tCHAR(1),\\n\\t\"SNAP\"\\t\\t\\tCHAR(1)\\n);\\n.import /Users/nadiawood/Documents/GitHub/cs513-data-cleaning/2CleanedData/farmersmarkets_payments.csv payments\\n\\nCREATE TABLE products(\\n\\t\"FMID\"\\t\\t\\tINT PRIMARY KEY NOT NULL,\\n\\t\"Organic\"\\t\\tCHAR(1),\\n\\t\"Bakedgoods\"\\tCHAR(1),\\n\\t\"Cheese\"\\t\\tCHAR(1),\\n\\t\"Crafts\"\\t\\tCHAR(1),\\n\\t\"Flowers\"\\t\\tCHAR(1),\\n\\t\"Eggs\"\\t\\t\\tCHAR(1),\\n\\t\"Seafood\"\\t\\tCHAR(1),\\n\\t\"Herbs\"\\t\\t\\tCHAR(1),\\n\\t\"Vegetables\"\\tCHAR(1),\\n\\t\"Honey\"\\t\\t\\tCHAR(1),\\n\\t\"Jams\"\\t\\t\\tCHAR(1),\\n\\t\"Maple\"\\t\\t\\tCHAR(1),\\n\\t\"Meat\"\\t\\t\\tCHAR(1),\\n\\t\"Nursery\"\\t\\tCHAR(1),\\n\\t\"Nuts\"\\t\\t\\tCHAR(1),\\n\\t\"Plants\"\\t\\tCHAR(1),\\n\\t\"Poultry\"\\t\\tCHAR(1),\\n\\t\"Prepared\"\\t\\tCHAR(1),\\n\\t\"Soap\"\\t\\t\\tCHAR(1),\\n\\t\"Trees\"\\t\\t\\tCHAR(1),\\n\\t\"Wine\"\\t\\t\\tCHAR(1),\\n\\t\"Coffee\"\\t\\tCHAR(1),\\n\\t\"Beans\"\\t\\t\\tCHAR(1),\\n\\t\"Fruits\"\\t\\tCHAR(1),\\n\\t\"Grains\"\\t\\tCHAR(1),\\n\\t\"Juices\"\\t\\tCHAR(1),\\n\\t\"Mushrooms\"\\t\\tCHAR(1),\\n\\t\"PetFood\"\\t\\tCHAR(1),\\n\\t\"Tofu\"\\t\\t\\tCHAR(1),\\n\\t\"WildHarvested\"\\tCHAR(1)\\n);\\n.import /Users/nadiawood/Documents/GitHub/cs513-data-cleaning/2CleanedData/farmersmarkets_products.csv products\\n\\n.output ./farmersmarkets.sql\\n.dump\\n'' returned non-zero exit status 1."
     ]
    }
   ],
   "source": [
    "%%bash\n",
    "sqlite3 ./farmersmarkets.db\n",
    "\n",
    ".header on\n",
    ".mode csv\n",
    "\n",
    "\n",
    "CREATE TABLE location(\n",
    "\t\"FMID\"\t\t\tINT PRIMARY KEY NOT NULL,\n",
    "\t\"MarketName\" \tTEXT,\n",
    "\t\"street\"\t\tTEXT,\n",
    "\t\"City\"\t\t\tTEXT,\n",
    "\t\"County\"\t\tTEXT,\n",
    "\t\"State\"\t\t\tTEXT,\n",
    "\t\"zip\"\t\t\tTEXT,\n",
    "\t\"latitude\"\t\tREAL,\n",
    "\t\"longitude\"\t\tREAL,\n",
    "\t\"updateTime\"\tDATETIME\n",
    ");\n",
    ".import /Users/nadiawood/Documents/GitHub/cs513-data-cleaning/2CleanedData/farmersMarket_location.csv location\n",
    "\n",
    "CREATE TABLE payments(\n",
    "\t\"FMID\"\t\t\tINT PRIMARY KEY NOT NULL,\n",
    "\t\"Credit\"\t\tCHAR(1),\n",
    "\t\"WIC\"\t\t\tCHAR(1),\n",
    "\t\"WICcash\"\t\tCHAR(1),\n",
    "\t\"SFMNP\"\t\t\tCHAR(1),\n",
    "\t\"SNAP\"\t\t\tCHAR(1)\n",
    ");\n",
    ".import /Users/nadiawood/Documents/GitHub/cs513-data-cleaning/2CleanedData/farmeresmarkets_payments.csv payments\n",
    "\n",
    "CREATE TABLE products(\n",
    "\t\"FMID\"\t\t\tINT PRIMARY KEY NOT NULL,\n",
    "\t\"Organic\"\t\tCHAR(1),\n",
    "\t\"Bakedgoods\"\tCHAR(1),\n",
    "\t\"Cheese\"\t\tCHAR(1),\n",
    "\t\"Crafts\"\t\tCHAR(1),\n",
    "\t\"Flowers\"\t\tCHAR(1),\n",
    "\t\"Eggs\"\t\t\tCHAR(1),\n",
    "\t\"Seafood\"\t\tCHAR(1),\n",
    "\t\"Herbs\"\t\t\tCHAR(1),\n",
    "\t\"Vegetables\"\tCHAR(1),\n",
    "\t\"Honey\"\t\t\tCHAR(1),\n",
    "\t\"Jams\"\t\t\tCHAR(1),\n",
    "\t\"Maple\"\t\t\tCHAR(1),\n",
    "\t\"Meat\"\t\t\tCHAR(1),\n",
    "\t\"Nursery\"\t\tCHAR(1),\n",
    "\t\"Nuts\"\t\t\tCHAR(1),\n",
    "\t\"Plants\"\t\tCHAR(1),\n",
    "\t\"Poultry\"\t\tCHAR(1),\n",
    "\t\"Prepared\"\t\tCHAR(1),\n",
    "\t\"Soap\"\t\t\tCHAR(1),\n",
    "\t\"Trees\"\t\t\tCHAR(1),\n",
    "\t\"Wine\"\t\t\tCHAR(1),\n",
    "\t\"Coffee\"\t\tCHAR(1),\n",
    "\t\"Beans\"\t\t\tCHAR(1),\n",
    "\t\"Fruits\"\t\tCHAR(1),\n",
    "\t\"Grains\"\t\tCHAR(1),\n",
    "\t\"Juices\"\t\tCHAR(1),\n",
    "\t\"Mushrooms\"\t\tCHAR(1),\n",
    "\t\"PetFood\"\t\tCHAR(1),\n",
    "\t\"Tofu\"\t\t\tCHAR(1),\n",
    "\t\"WildHarvested\"\tCHAR(1)\n",
    ");\n",
    ".import /Users/nadiawood/Documents/GitHub/cs513-data-cleaning/2CleanedData/farmersmarkets_products.csv products\n",
    "\n",
    ".output ./farmersmarkets.sql\n",
    ".dump"
   ]
  },
  {
   "cell_type": "markdown",
   "metadata": {},
   "source": [
    "## Connect to database"
   ]
  },
  {
   "cell_type": "code",
   "execution_count": 7,
   "metadata": {},
   "outputs": [
    {
     "data": {
      "text/plain": [
       "'Connected: @./farmersmarkets.db'"
      ]
     },
     "execution_count": 7,
     "metadata": {},
     "output_type": "execute_result"
    }
   ],
   "source": [
    "# Connect to database. Following command will connect you to the database.\n",
    "# Any query that you will run after this cell will be run on the `surverys` database.\n",
    "# You can always change the path in database url and connect to some other sqlite db of your choice.\n",
    "survey_db_url = 'sqlite:///' + os.path.expanduser('./farmersmarkets.db')\n",
    "%sql $survey_db_url"
   ]
  },
  {
   "cell_type": "code",
   "execution_count": 8,
   "metadata": {},
   "outputs": [
    {
     "name": "stdout",
     "output_type": "stream",
     "text": [
      " * sqlite:///./farmersmarkets.db\n",
      "Done.\n"
     ]
    },
    {
     "data": {
      "text/html": [
       "<table>\n",
       "    <tr>\n",
       "        <th>FMID</th>\n",
       "        <th>MarketName</th>\n",
       "        <th>street</th>\n",
       "        <th>City</th>\n",
       "        <th>County</th>\n",
       "        <th>State</th>\n",
       "        <th>zip</th>\n",
       "        <th>latitude</th>\n",
       "        <th>longitude</th>\n",
       "        <th>updateTime</th>\n",
       "    </tr>\n",
       "    <tr>\n",
       "        <td>1018261</td>\n",
       "        <td>Caledonia Farmers Market Association - Danville</td>\n",
       "        <td></td>\n",
       "        <td>DANVILLE</td>\n",
       "        <td>CALEDONIA</td>\n",
       "        <td>VERMONT</td>\n",
       "        <td>5828</td>\n",
       "        <td>-72.140337</td>\n",
       "        <td>44.411036</td>\n",
       "        <td>2018-08-06T10:43:57Z</td>\n",
       "    </tr>\n",
       "    <tr>\n",
       "        <td>1018318</td>\n",
       "        <td>Stearns Homestead Farmers&#x27; Market</td>\n",
       "        <td>6975 RIDGE ROAD</td>\n",
       "        <td>PARMA</td>\n",
       "        <td>CUYAHOGA</td>\n",
       "        <td>OHIO</td>\n",
       "        <td></td>\n",
       "        <td>-81.7339387</td>\n",
       "        <td>41.3748009</td>\n",
       "        <td>2018-09-06T05:15:01Z</td>\n",
       "    </tr>\n",
       "    <tr>\n",
       "        <td>1009364</td>\n",
       "        <td>106 S. Main Street Farmers Market</td>\n",
       "        <td>106 S MAIN STREET</td>\n",
       "        <td>SIX MILE</td>\n",
       "        <td></td>\n",
       "        <td>SOUTH CAROLINA</td>\n",
       "        <td>29682</td>\n",
       "        <td>-82.8187</td>\n",
       "        <td>34.8042</td>\n",
       "        <td>2013-01-01T05:00:00Z</td>\n",
       "    </tr>\n",
       "    <tr>\n",
       "        <td>1010691</td>\n",
       "        <td>10th Steet Community Farmers Market</td>\n",
       "        <td>10TH STREET AND POPLAR</td>\n",
       "        <td>LAMAR</td>\n",
       "        <td>BARTON</td>\n",
       "        <td>MISSOURI</td>\n",
       "        <td>64759</td>\n",
       "        <td>-94.2746191</td>\n",
       "        <td>37.495628</td>\n",
       "        <td>2016-04-10T09:49:46Z</td>\n",
       "    </tr>\n",
       "    <tr>\n",
       "        <td>1002454</td>\n",
       "        <td>112st Madison Avenue</td>\n",
       "        <td>112TH MADISON AVENUE</td>\n",
       "        <td>NEW YORK</td>\n",
       "        <td>NEW YORK</td>\n",
       "        <td>NEW YORK</td>\n",
       "        <td>10029</td>\n",
       "        <td>-73.9493</td>\n",
       "        <td>40.7939</td>\n",
       "        <td>2012-01-03T10:38:22Z</td>\n",
       "    </tr>\n",
       "</table>"
      ],
      "text/plain": [
       "[(1018261, 'Caledonia Farmers Market Association - Danville', '', 'DANVILLE', 'CALEDONIA', 'VERMONT', '5828', -72.140337, 44.411036, '2018-08-06T10:43:57Z'),\n",
       " (1018318, \"Stearns Homestead Farmers' Market\", '6975 RIDGE ROAD', 'PARMA', 'CUYAHOGA', 'OHIO', '', -81.7339387, 41.3748009, '2018-09-06T05:15:01Z'),\n",
       " (1009364, '106 S. Main Street Farmers Market', '106 S MAIN STREET', 'SIX MILE', '', 'SOUTH CAROLINA', '29682', -82.8187, 34.8042, '2013-01-01T05:00:00Z'),\n",
       " (1010691, '10th Steet Community Farmers Market', '10TH STREET AND POPLAR', 'LAMAR', 'BARTON', 'MISSOURI', '64759', -94.2746191, 37.495628, '2016-04-10T09:49:46Z'),\n",
       " (1002454, '112st Madison Avenue', '112TH MADISON AVENUE', 'NEW YORK', 'NEW YORK', 'NEW YORK', '10029', -73.9493, 40.7939, '2012-01-03T10:38:22Z')]"
      ]
     },
     "execution_count": 8,
     "metadata": {},
     "output_type": "execute_result"
    }
   ],
   "source": [
    "%%sql\n",
    "SELECT * FROM location LIMIT 5;"
   ]
  },
  {
   "cell_type": "markdown",
   "metadata": {},
   "source": [
    "## Integrity Constraints"
   ]
  },
  {
   "cell_type": "markdown",
   "metadata": {},
   "source": [
    "### 1. Check that FMID is an appropriate primary key: non-null and unique\n",
    "Looks good."
   ]
  },
  {
   "cell_type": "code",
   "execution_count": 9,
   "metadata": {},
   "outputs": [
    {
     "name": "stdout",
     "output_type": "stream",
     "text": [
      " * sqlite:///./farmersmarkets.db\n",
      "Done.\n",
      "Done.\n"
     ]
    },
    {
     "data": {
      "text/html": [
       "<table>\n",
       "    <tr>\n",
       "        <th>COUNT(distinct FMID)</th>\n",
       "    </tr>\n",
       "    <tr>\n",
       "        <td>8687</td>\n",
       "    </tr>\n",
       "</table>"
      ],
      "text/plain": [
       "[(8687,)]"
      ]
     },
     "execution_count": 9,
     "metadata": {},
     "output_type": "execute_result"
    }
   ],
   "source": [
    "%%sql\n",
    "SELECT * FROM location where FMID IS NULL OR FMID = '';\n",
    "SELECT COUNT(distinct FMID) from location;"
   ]
  },
  {
   "cell_type": "markdown",
   "metadata": {},
   "source": [
    "### 2. Ensure that data for my use case is non-null. Turns out that we have 29 rows where latitude and longitude information are missing.\n",
    "* latitude and longitude\n",
    "* state\n",
    "* credit"
   ]
  },
  {
   "cell_type": "code",
   "execution_count": 10,
   "metadata": {},
   "outputs": [
    {
     "name": "stdout",
     "output_type": "stream",
     "text": [
      " * sqlite:///./farmersmarkets.db\n",
      "Done.\n"
     ]
    },
    {
     "data": {
      "text/html": [
       "<table>\n",
       "    <tr>\n",
       "        <th>FMID</th>\n",
       "        <th>MarketName</th>\n",
       "        <th>street</th>\n",
       "        <th>City</th>\n",
       "        <th>County</th>\n",
       "        <th>State</th>\n",
       "        <th>zip</th>\n",
       "        <th>latitude</th>\n",
       "        <th>longitude</th>\n",
       "        <th>updateTime</th>\n",
       "    </tr>\n",
       "    <tr>\n",
       "        <td>2000001</td>\n",
       "        <td>Center for Design Practice - Mobile Farmers Market</td>\n",
       "        <td></td>\n",
       "        <td></td>\n",
       "        <td></td>\n",
       "        <td>MARYLAND</td>\n",
       "        <td></td>\n",
       "        <td></td>\n",
       "        <td></td>\n",
       "        <td>2013-01-01T05:00:00Z</td>\n",
       "    </tr>\n",
       "    <tr>\n",
       "        <td>1011689</td>\n",
       "        <td>Charlotte Regional Farmers Market</td>\n",
       "        <td>1801 YORKMONT ROAD</td>\n",
       "        <td>CHARLOTTE</td>\n",
       "        <td>MECKLENBURG</td>\n",
       "        <td>NORTH CAROLINA</td>\n",
       "        <td>28217</td>\n",
       "        <td></td>\n",
       "        <td></td>\n",
       "        <td>2015-11-09T01:23:36Z</td>\n",
       "    </tr>\n",
       "    <tr>\n",
       "        <td>2000002</td>\n",
       "        <td>Dig It!</td>\n",
       "        <td></td>\n",
       "        <td></td>\n",
       "        <td></td>\n",
       "        <td>PENNSYLVANIA</td>\n",
       "        <td></td>\n",
       "        <td></td>\n",
       "        <td></td>\n",
       "        <td>2013-01-01T05:00:00Z</td>\n",
       "    </tr>\n",
       "    <tr>\n",
       "        <td>1002854</td>\n",
       "        <td>East Goshen Farmers Market</td>\n",
       "        <td>EAST GOSHEN PARK - PAOLI PIKE EAST OF ROUTE 352</td>\n",
       "        <td>WEST CHESTER</td>\n",
       "        <td>CHESTER</td>\n",
       "        <td>PENNSYLVANIA</td>\n",
       "        <td>19380</td>\n",
       "        <td></td>\n",
       "        <td></td>\n",
       "        <td>2014-06-05T03:45:15Z</td>\n",
       "    </tr>\n",
       "    <tr>\n",
       "        <td>2000004</td>\n",
       "        <td>Farm a la Carte</td>\n",
       "        <td></td>\n",
       "        <td></td>\n",
       "        <td></td>\n",
       "        <td>GEORGIA</td>\n",
       "        <td></td>\n",
       "        <td></td>\n",
       "        <td></td>\n",
       "        <td>2013-01-01T05:00:00Z</td>\n",
       "    </tr>\n",
       "</table>"
      ],
      "text/plain": [
       "[(2000001, 'Center for Design Practice - Mobile Farmers Market', '', '', '', 'MARYLAND', '', '', '', '2013-01-01T05:00:00Z'),\n",
       " (1011689, 'Charlotte Regional Farmers Market', '1801 YORKMONT ROAD', 'CHARLOTTE', 'MECKLENBURG', 'NORTH CAROLINA', '28217', '', '', '2015-11-09T01:23:36Z'),\n",
       " (2000002, 'Dig It!', '', '', '', 'PENNSYLVANIA', '', '', '', '2013-01-01T05:00:00Z'),\n",
       " (1002854, 'East Goshen Farmers Market', 'EAST GOSHEN PARK - PAOLI PIKE EAST OF ROUTE 352', 'WEST CHESTER', 'CHESTER', 'PENNSYLVANIA', '19380', '', '', '2014-06-05T03:45:15Z'),\n",
       " (2000004, 'Farm a la Carte', '', '', '', 'GEORGIA', '', '', '', '2013-01-01T05:00:00Z')]"
      ]
     },
     "execution_count": 10,
     "metadata": {},
     "output_type": "execute_result"
    }
   ],
   "source": [
    "%%sql\n",
    "SELECT *\n",
    "FROM location loc\n",
    "WHERE loc.latitude IS NULL \n",
    "        OR loc.latitude = ''\n",
    "        OR loc.longitude IS NULL\n",
    "        OR loc.longitude = ''\n",
    "        LIMIT 5;"
   ]
  },
  {
   "cell_type": "code",
   "execution_count": 11,
   "metadata": {},
   "outputs": [
    {
     "name": "stdout",
     "output_type": "stream",
     "text": [
      " * sqlite:///./farmersmarkets.db\n",
      "Done.\n"
     ]
    },
    {
     "data": {
      "text/html": [
       "<table>\n",
       "    <tr>\n",
       "        <th>COUNT(*)</th>\n",
       "    </tr>\n",
       "    <tr>\n",
       "        <td>29</td>\n",
       "    </tr>\n",
       "</table>"
      ],
      "text/plain": [
       "[(29,)]"
      ]
     },
     "execution_count": 11,
     "metadata": {},
     "output_type": "execute_result"
    }
   ],
   "source": [
    "%%sql\n",
    "SELECT COUNT(*)\n",
    "FROM location loc\n",
    "WHERE loc.latitude IS NULL \n",
    "        OR loc.latitude = ''\n",
    "        OR loc.longitude IS NULL\n",
    "        OR loc.longitude = '';"
   ]
  },
  {
   "cell_type": "code",
   "execution_count": 12,
   "metadata": {},
   "outputs": [
    {
     "name": "stdout",
     "output_type": "stream",
     "text": [
      " * sqlite:///./farmersmarkets.db\n",
      "Done.\n"
     ]
    },
    {
     "data": {
      "text/html": [
       "<table>\n",
       "    <tr>\n",
       "        <th>FMID</th>\n",
       "        <th>MarketName</th>\n",
       "        <th>street</th>\n",
       "        <th>City</th>\n",
       "        <th>County</th>\n",
       "        <th>State</th>\n",
       "        <th>zip</th>\n",
       "        <th>latitude</th>\n",
       "        <th>longitude</th>\n",
       "        <th>updateTime</th>\n",
       "    </tr>\n",
       "</table>"
      ],
      "text/plain": [
       "[]"
      ]
     },
     "execution_count": 12,
     "metadata": {},
     "output_type": "execute_result"
    }
   ],
   "source": [
    "%%sql\n",
    "SELECT *\n",
    "FROM location loc\n",
    "WHERE loc.State IS NULL OR loc.State = '';"
   ]
  },
  {
   "cell_type": "code",
   "execution_count": 13,
   "metadata": {},
   "outputs": [
    {
     "name": "stdout",
     "output_type": "stream",
     "text": [
      " * sqlite:///./farmersmarkets.db\n",
      "Done.\n"
     ]
    },
    {
     "data": {
      "text/html": [
       "<table>\n",
       "    <tr>\n",
       "        <th>FMID</th>\n",
       "        <th>Credit</th>\n",
       "        <th>WIC</th>\n",
       "        <th>WICcash</th>\n",
       "        <th>SFMNP</th>\n",
       "        <th>SNAP</th>\n",
       "    </tr>\n",
       "</table>"
      ],
      "text/plain": [
       "[]"
      ]
     },
     "execution_count": 13,
     "metadata": {},
     "output_type": "execute_result"
    }
   ],
   "source": [
    "%%sql\n",
    "SELECT *\n",
    "FROM Payments pay\n",
    "WHERE pay.Credit IS NULL OR pay.Credit = '';"
   ]
  },
  {
   "cell_type": "markdown",
   "metadata": {},
   "source": [
    "### 3. Check that latitude must be in [0,90] and longitude should be [-180, 180]\n",
    "Looks good."
   ]
  },
  {
   "cell_type": "code",
   "execution_count": 14,
   "metadata": {},
   "outputs": [
    {
     "name": "stdout",
     "output_type": "stream",
     "text": [
      " * sqlite:///./farmersmarkets.db\n",
      "Done.\n"
     ]
    },
    {
     "data": {
      "text/html": [
       "<table>\n",
       "    <tr>\n",
       "        <th>FMID</th>\n",
       "        <th>MarketName</th>\n",
       "        <th>latitude</th>\n",
       "        <th>longitude</th>\n",
       "    </tr>\n",
       "</table>"
      ],
      "text/plain": [
       "[]"
      ]
     },
     "execution_count": 14,
     "metadata": {},
     "output_type": "execute_result"
    }
   ],
   "source": [
    "%%sql\n",
    "SELECT loc.FMID,\n",
    "       loc.MarketName, \n",
    "       loc.latitude, \n",
    "       loc.longitude \n",
    "FROM location loc\n",
    "WHERE  ( Cast(loc.latitude AS FLOAT) > 180 \n",
    "          OR Cast(loc.latitude AS FLOAT) <- 180 \n",
    "          OR Cast(loc.longitude AS FLOAT) < 0 \n",
    "          OR Cast(loc.longitude AS FLOAT) > 90 ) ; "
   ]
  },
  {
   "cell_type": "markdown",
   "metadata": {},
   "source": [
    "### 4. Every FMID has single address (street, City, County, State, zip) if it exists\n",
    "Looks good."
   ]
  },
  {
   "cell_type": "code",
   "execution_count": 15,
   "metadata": {},
   "outputs": [
    {
     "name": "stdout",
     "output_type": "stream",
     "text": [
      " * sqlite:///./farmersmarkets.db\n",
      "Done.\n"
     ]
    },
    {
     "data": {
      "text/html": [
       "<table>\n",
       "    <tr>\n",
       "        <th>FMID</th>\n",
       "        <th>street</th>\n",
       "        <th>City</th>\n",
       "        <th>County</th>\n",
       "        <th>State</th>\n",
       "        <th>zip</th>\n",
       "        <th>count(*)</th>\n",
       "    </tr>\n",
       "</table>"
      ],
      "text/plain": [
       "[]"
      ]
     },
     "execution_count": 15,
     "metadata": {},
     "output_type": "execute_result"
    }
   ],
   "source": [
    "%%sql\n",
    "SELECT\n",
    "    FMID, street, City, County, State, zip, count(*)\n",
    "FROM\n",
    "    location\n",
    "GROUP BY\n",
    "    FMID, street, City, County, State, zip\n",
    "HAVING \n",
    "    COUNT(*) > 1"
   ]
  },
  {
   "cell_type": "code",
   "execution_count": null,
   "metadata": {},
   "outputs": [],
   "source": []
  },
  {
   "cell_type": "code",
   "execution_count": null,
   "metadata": {},
   "outputs": [],
   "source": []
  }
 ],
 "metadata": {
  "kernelspec": {
   "display_name": "Python 3 (ipykernel)",
   "language": "python",
   "name": "python3"
  },
  "language_info": {
   "codemirror_mode": {
    "name": "ipython",
    "version": 3
   },
   "file_extension": ".py",
   "mimetype": "text/x-python",
   "name": "python",
   "nbconvert_exporter": "python",
   "pygments_lexer": "ipython3",
   "version": "3.9.7"
  }
 },
 "nbformat": 4,
 "nbformat_minor": 2
}
