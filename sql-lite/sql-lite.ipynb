{
 "cells": [
  {
   "cell_type": "code",
   "execution_count": 24,
   "metadata": {},
   "outputs": [],
   "source": [
    "import sqlite3\n",
    "import os\n",
    "import pandas as pd"
   ]
  },
  {
   "cell_type": "code",
   "execution_count": 28,
   "metadata": {},
   "outputs": [
    {
     "name": "stdout",
     "output_type": "stream",
     "text": [
      "Collecting ipython-sql\n",
      "  Downloading ipython_sql-0.4.1-py3-none-any.whl (21 kB)\n",
      "Requirement already satisfied: six in /opt/anaconda3/lib/python3.9/site-packages (from ipython-sql) (1.16.0)\n",
      "Requirement already satisfied: ipython-genutils>=0.1.0 in /opt/anaconda3/lib/python3.9/site-packages (from ipython-sql) (0.2.0)\n",
      "Collecting sqlparse\n",
      "  Downloading sqlparse-0.4.2-py3-none-any.whl (42 kB)\n",
      "\u001b[K     |████████████████████████████████| 42 kB 2.3 MB/s eta 0:00:011\n",
      "\u001b[?25hRequirement already satisfied: sqlalchemy>=0.6.7 in /opt/anaconda3/lib/python3.9/site-packages (from ipython-sql) (1.4.22)\n",
      "Requirement already satisfied: ipython>=1.0 in /opt/anaconda3/lib/python3.9/site-packages (from ipython-sql) (7.29.0)\n",
      "Collecting prettytable<1\n",
      "  Downloading prettytable-0.7.2.zip (28 kB)\n",
      "Requirement already satisfied: matplotlib-inline in /opt/anaconda3/lib/python3.9/site-packages (from ipython>=1.0->ipython-sql) (0.1.2)\n",
      "Requirement already satisfied: prompt-toolkit!=3.0.0,!=3.0.1,<3.1.0,>=2.0.0 in /opt/anaconda3/lib/python3.9/site-packages (from ipython>=1.0->ipython-sql) (3.0.20)\n",
      "Requirement already satisfied: pygments in /opt/anaconda3/lib/python3.9/site-packages (from ipython>=1.0->ipython-sql) (2.10.0)\n",
      "Requirement already satisfied: jedi>=0.16 in /opt/anaconda3/lib/python3.9/site-packages (from ipython>=1.0->ipython-sql) (0.18.0)\n",
      "Requirement already satisfied: setuptools>=18.5 in /opt/anaconda3/lib/python3.9/site-packages (from ipython>=1.0->ipython-sql) (58.0.4)\n",
      "Requirement already satisfied: pexpect>4.3 in /opt/anaconda3/lib/python3.9/site-packages (from ipython>=1.0->ipython-sql) (4.8.0)\n",
      "Requirement already satisfied: backcall in /opt/anaconda3/lib/python3.9/site-packages (from ipython>=1.0->ipython-sql) (0.2.0)\n",
      "Requirement already satisfied: appnope in /opt/anaconda3/lib/python3.9/site-packages (from ipython>=1.0->ipython-sql) (0.1.2)\n",
      "Requirement already satisfied: traitlets>=4.2 in /opt/anaconda3/lib/python3.9/site-packages (from ipython>=1.0->ipython-sql) (5.1.0)\n",
      "Requirement already satisfied: pickleshare in /opt/anaconda3/lib/python3.9/site-packages (from ipython>=1.0->ipython-sql) (0.7.5)\n",
      "Requirement already satisfied: decorator in /opt/anaconda3/lib/python3.9/site-packages (from ipython>=1.0->ipython-sql) (5.1.0)\n",
      "Requirement already satisfied: parso<0.9.0,>=0.8.0 in /opt/anaconda3/lib/python3.9/site-packages (from jedi>=0.16->ipython>=1.0->ipython-sql) (0.8.2)\n",
      "Requirement already satisfied: ptyprocess>=0.5 in /opt/anaconda3/lib/python3.9/site-packages (from pexpect>4.3->ipython>=1.0->ipython-sql) (0.7.0)\n",
      "Requirement already satisfied: wcwidth in /opt/anaconda3/lib/python3.9/site-packages (from prompt-toolkit!=3.0.0,!=3.0.1,<3.1.0,>=2.0.0->ipython>=1.0->ipython-sql) (0.2.5)\n",
      "Requirement already satisfied: greenlet!=0.4.17 in /opt/anaconda3/lib/python3.9/site-packages (from sqlalchemy>=0.6.7->ipython-sql) (1.1.1)\n",
      "Building wheels for collected packages: prettytable\n",
      "  Building wheel for prettytable (setup.py) ... \u001b[?25ldone\n",
      "\u001b[?25h  Created wheel for prettytable: filename=prettytable-0.7.2-py3-none-any.whl size=13714 sha256=5e30a945bff9c6a6965324464f379ecba9ed974c7c91afbc0f8b08da259b1f2d\n",
      "  Stored in directory: /Users/nadiawood/Library/Caches/pip/wheels/75/f7/28/77a076f1fa8cbeda61aca712815d04d7a32435f04a26a2dd7b\n",
      "Successfully built prettytable\n",
      "Installing collected packages: sqlparse, prettytable, ipython-sql\n",
      "Successfully installed ipython-sql-0.4.1 prettytable-0.7.2 sqlparse-0.4.2\n",
      "Note: you may need to restart the kernel to use updated packages.\n"
     ]
    }
   ],
   "source": [
    "pip install ipython-sql"
   ]
  },
  {
   "cell_type": "code",
   "execution_count": 30,
   "metadata": {
    "scrolled": true
   },
   "outputs": [],
   "source": [
    "%reload_ext sql"
   ]
  },
  {
   "cell_type": "code",
   "execution_count": 31,
   "metadata": {},
   "outputs": [
    {
     "name": "stdout",
     "output_type": "stream",
     "text": [
      "/Users/nadiawood/Documents/GitHub/cs513-data-cleaning/SQL\n",
      "OpenRefine\n",
      "farmeresmarkets_payments.csv\n",
      "farmersMarket_location.csv\n",
      "farmersmarket_impute_zip.ipynb\n",
      "farmersmarkets_output.csv\n",
      "farmersmarkets_products.csv\n"
     ]
    }
   ],
   "source": [
    "%%bash\n",
    "pwd\n",
    "ls ../2CleanedData"
   ]
  },
  {
   "cell_type": "code",
   "execution_count": 32,
   "metadata": {},
   "outputs": [],
   "source": [
    "df = pd.read_csv(\"../2CleanedData/farmersMarket_location.csv\")"
   ]
  },
  {
   "cell_type": "code",
   "execution_count": 33,
   "metadata": {},
   "outputs": [
    {
     "data": {
      "text/plain": [
       "(8675, 10)"
      ]
     },
     "execution_count": 33,
     "metadata": {},
     "output_type": "execute_result"
    }
   ],
   "source": [
    "df.shape"
   ]
  },
  {
   "cell_type": "markdown",
   "metadata": {},
   "source": [
    "## Commands for sqllite"
   ]
  },
  {
   "cell_type": "code",
   "execution_count": 21,
   "metadata": {},
   "outputs": [],
   "source": [
    "%%bash\n",
    "sqlite3 ../farmersmarkets.db\n",
    "\n",
    ".header on\n",
    ".mode csv\n",
    "\n",
    "\n",
    "CREATE TABLE location(\n",
    "\t\"FMID\"\t\t\tINT PRIMARY KEY NOT NULL,\n",
    "\t\"MarketName\" \tTEXT,\n",
    "\t\"street\"\t\tTEXT,\n",
    "\t\"City\"\t\t\tTEXT,\n",
    "\t\"County\"\t\tTEXT,\n",
    "\t\"State\"\t\t\tTEXT,\n",
    "\t\"zip\"\t\t\tTEXT,\n",
    "\t\"latitude\"\t\tREAL,\n",
    "\t\"longitude\"\t\tREAL,\n",
    "\t\"updateTime\"\tDATETIME\n",
    ");\n",
    ".import /Users/nadiawood/Documents/GitHub/cs513-data-cleaning/2CleanedData/farmersMarket_location.csv location\n",
    "\n",
    "CREATE TABLE payments(\n",
    "\t\"FMID\"\t\t\tINT PRIMARY KEY NOT NULL,\n",
    "\t\"Credit\"\t\tCHAR(1),\n",
    "\t\"WIC\"\t\t\tCHAR(1),\n",
    "\t\"WICcash\"\t\tCHAR(1),\n",
    "\t\"SFMNP\"\t\t\tCHAR(1),\n",
    "\t\"SNAP\"\t\t\tCHAR(1)\n",
    ");\n",
    ".import /Users/nadiawood/Documents/GitHub/cs513-data-cleaning/2CleanedData/farmeresmarkets_payments.csv payments\n",
    "\n",
    "CREATE TABLE products(\n",
    "\t\"FMID\"\t\t\tINT PRIMARY KEY NOT NULL,\n",
    "\t\"Organic\"\t\tCHAR(1),\n",
    "\t\"Bakedgoods\"\tCHAR(1),\n",
    "\t\"Cheese\"\t\tCHAR(1),\n",
    "\t\"Crafts\"\t\tCHAR(1),\n",
    "\t\"Flowers\"\t\tCHAR(1),\n",
    "\t\"Eggs\"\t\t\tCHAR(1),\n",
    "\t\"Seafood\"\t\tCHAR(1),\n",
    "\t\"Herbs\"\t\t\tCHAR(1),\n",
    "\t\"Vegetables\"\tCHAR(1),\n",
    "\t\"Honey\"\t\t\tCHAR(1),\n",
    "\t\"Jams\"\t\t\tCHAR(1),\n",
    "\t\"Maple\"\t\t\tCHAR(1),\n",
    "\t\"Meat\"\t\t\tCHAR(1),\n",
    "\t\"Nursery\"\t\tCHAR(1),\n",
    "\t\"Nuts\"\t\t\tCHAR(1),\n",
    "\t\"Plants\"\t\tCHAR(1),\n",
    "\t\"Poultry\"\t\tCHAR(1),\n",
    "\t\"Prepared\"\t\tCHAR(1),\n",
    "\t\"Soap\"\t\t\tCHAR(1),\n",
    "\t\"Trees\"\t\t\tCHAR(1),\n",
    "\t\"Wine\"\t\t\tCHAR(1),\n",
    "\t\"Coffee\"\t\tCHAR(1),\n",
    "\t\"Beans\"\t\t\tCHAR(1),\n",
    "\t\"Fruits\"\t\tCHAR(1),\n",
    "\t\"Grains\"\t\tCHAR(1),\n",
    "\t\"Juices\"\t\tCHAR(1),\n",
    "\t\"Mushrooms\"\t\tCHAR(1),\n",
    "\t\"PetFood\"\t\tCHAR(1),\n",
    "\t\"Tofu\"\t\t\tCHAR(1),\n",
    "\t\"WildHarvested\"\tCHAR(1)\n",
    ");\n",
    ".import /Users/nadiawood/Documents/GitHub/cs513-data-cleaning/2CleanedData/farmersmarkets_products.csv products\n",
    "\n",
    ".output ./farmersmarkets.sql\n",
    ".dump"
   ]
  },
  {
   "cell_type": "markdown",
   "metadata": {},
   "source": [
    "## Connect to database"
   ]
  },
  {
   "cell_type": "code",
   "execution_count": 22,
   "metadata": {},
   "outputs": [
    {
     "name": "stderr",
     "output_type": "stream",
     "text": [
      "UsageError: Line magic function `%sql` not found.\n"
     ]
    }
   ],
   "source": [
    "# Connect to database. Following command will connect you to the database.\n",
    "# Any query that you will run after this cell will be run on the `surverys` database.\n",
    "# You can always change the path in database url and connect to some other sqlite db of your choice.\n",
    "survey_db_url = 'sqlite:///' + os.path.expanduser('./farmersmarkets.db')\n",
    "%sql $survey_db_url"
   ]
  },
  {
   "cell_type": "code",
   "execution_count": 23,
   "metadata": {},
   "outputs": [
    {
     "name": "stderr",
     "output_type": "stream",
     "text": [
      "UsageError: Cell magic `%%sql` not found.\n"
     ]
    }
   ],
   "source": [
    "%%sql\n",
    "SELECT * FROM location LIMIT 5;"
   ]
  },
  {
   "cell_type": "markdown",
   "metadata": {},
   "source": [
    "## Integrity Constraints"
   ]
  },
  {
   "cell_type": "markdown",
   "metadata": {},
   "source": [
    "### 1. Check that FMID is an appropriate primary key: non-null and unique\n",
    "Looks good."
   ]
  },
  {
   "cell_type": "code",
   "execution_count": 9,
   "metadata": {},
   "outputs": [
    {
     "name": "stdout",
     "output_type": "stream",
     "text": [
      " * sqlite:///./farmersmarkets.db\n",
      "Done.\n",
      "Done.\n"
     ]
    },
    {
     "data": {
      "text/html": [
       "<table>\n",
       "    <tr>\n",
       "        <th>COUNT(distinct FMID)</th>\n",
       "    </tr>\n",
       "    <tr>\n",
       "        <td>8687</td>\n",
       "    </tr>\n",
       "</table>"
      ],
      "text/plain": [
       "[(8687,)]"
      ]
     },
     "execution_count": 9,
     "metadata": {},
     "output_type": "execute_result"
    }
   ],
   "source": [
    "%%sql\n",
    "SELECT * FROM location where FMID IS NULL OR FMID = '';\n",
    "SELECT COUNT(distinct FMID) from location;"
   ]
  },
  {
   "cell_type": "markdown",
   "metadata": {},
   "source": [
    "### 2. Ensure that data for my use case is non-null. Turns out that we have 29 rows where latitude and longitude information are missing.\n",
    "* latitude and longitude\n",
    "* state\n",
    "* credit"
   ]
  },
  {
   "cell_type": "code",
   "execution_count": 10,
   "metadata": {},
   "outputs": [
    {
     "name": "stdout",
     "output_type": "stream",
     "text": [
      " * sqlite:///./farmersmarkets.db\n",
      "Done.\n"
     ]
    },
    {
     "data": {
      "text/html": [
       "<table>\n",
       "    <tr>\n",
       "        <th>FMID</th>\n",
       "        <th>MarketName</th>\n",
       "        <th>street</th>\n",
       "        <th>City</th>\n",
       "        <th>County</th>\n",
       "        <th>State</th>\n",
       "        <th>zip</th>\n",
       "        <th>latitude</th>\n",
       "        <th>longitude</th>\n",
       "        <th>updateTime</th>\n",
       "    </tr>\n",
       "    <tr>\n",
       "        <td>2000001</td>\n",
       "        <td>Center for Design Practice - Mobile Farmers Market</td>\n",
       "        <td></td>\n",
       "        <td></td>\n",
       "        <td></td>\n",
       "        <td>MARYLAND</td>\n",
       "        <td></td>\n",
       "        <td></td>\n",
       "        <td></td>\n",
       "        <td>2013-01-01T05:00:00Z</td>\n",
       "    </tr>\n",
       "    <tr>\n",
       "        <td>1011689</td>\n",
       "        <td>Charlotte Regional Farmers Market</td>\n",
       "        <td>1801 YORKMONT ROAD</td>\n",
       "        <td>CHARLOTTE</td>\n",
       "        <td>MECKLENBURG</td>\n",
       "        <td>NORTH CAROLINA</td>\n",
       "        <td>28217</td>\n",
       "        <td></td>\n",
       "        <td></td>\n",
       "        <td>2015-11-09T01:23:36Z</td>\n",
       "    </tr>\n",
       "    <tr>\n",
       "        <td>2000002</td>\n",
       "        <td>Dig It!</td>\n",
       "        <td></td>\n",
       "        <td></td>\n",
       "        <td></td>\n",
       "        <td>PENNSYLVANIA</td>\n",
       "        <td></td>\n",
       "        <td></td>\n",
       "        <td></td>\n",
       "        <td>2013-01-01T05:00:00Z</td>\n",
       "    </tr>\n",
       "    <tr>\n",
       "        <td>1002854</td>\n",
       "        <td>East Goshen Farmers Market</td>\n",
       "        <td>EAST GOSHEN PARK - PAOLI PIKE EAST OF ROUTE 352</td>\n",
       "        <td>WEST CHESTER</td>\n",
       "        <td>CHESTER</td>\n",
       "        <td>PENNSYLVANIA</td>\n",
       "        <td>19380</td>\n",
       "        <td></td>\n",
       "        <td></td>\n",
       "        <td>2014-06-05T03:45:15Z</td>\n",
       "    </tr>\n",
       "    <tr>\n",
       "        <td>2000004</td>\n",
       "        <td>Farm a la Carte</td>\n",
       "        <td></td>\n",
       "        <td></td>\n",
       "        <td></td>\n",
       "        <td>GEORGIA</td>\n",
       "        <td></td>\n",
       "        <td></td>\n",
       "        <td></td>\n",
       "        <td>2013-01-01T05:00:00Z</td>\n",
       "    </tr>\n",
       "</table>"
      ],
      "text/plain": [
       "[(2000001, 'Center for Design Practice - Mobile Farmers Market', '', '', '', 'MARYLAND', '', '', '', '2013-01-01T05:00:00Z'),\n",
       " (1011689, 'Charlotte Regional Farmers Market', '1801 YORKMONT ROAD', 'CHARLOTTE', 'MECKLENBURG', 'NORTH CAROLINA', '28217', '', '', '2015-11-09T01:23:36Z'),\n",
       " (2000002, 'Dig It!', '', '', '', 'PENNSYLVANIA', '', '', '', '2013-01-01T05:00:00Z'),\n",
       " (1002854, 'East Goshen Farmers Market', 'EAST GOSHEN PARK - PAOLI PIKE EAST OF ROUTE 352', 'WEST CHESTER', 'CHESTER', 'PENNSYLVANIA', '19380', '', '', '2014-06-05T03:45:15Z'),\n",
       " (2000004, 'Farm a la Carte', '', '', '', 'GEORGIA', '', '', '', '2013-01-01T05:00:00Z')]"
      ]
     },
     "execution_count": 10,
     "metadata": {},
     "output_type": "execute_result"
    }
   ],
   "source": [
    "%%sql\n",
    "SELECT *\n",
    "FROM location loc\n",
    "WHERE loc.latitude IS NULL \n",
    "        OR loc.latitude = ''\n",
    "        OR loc.longitude IS NULL\n",
    "        OR loc.longitude = ''\n",
    "        LIMIT 5;"
   ]
  },
  {
   "cell_type": "code",
   "execution_count": 11,
   "metadata": {},
   "outputs": [
    {
     "name": "stdout",
     "output_type": "stream",
     "text": [
      " * sqlite:///./farmersmarkets.db\n",
      "Done.\n"
     ]
    },
    {
     "data": {
      "text/html": [
       "<table>\n",
       "    <tr>\n",
       "        <th>COUNT(*)</th>\n",
       "    </tr>\n",
       "    <tr>\n",
       "        <td>29</td>\n",
       "    </tr>\n",
       "</table>"
      ],
      "text/plain": [
       "[(29,)]"
      ]
     },
     "execution_count": 11,
     "metadata": {},
     "output_type": "execute_result"
    }
   ],
   "source": [
    "%%sql\n",
    "SELECT COUNT(*)\n",
    "FROM location loc\n",
    "WHERE loc.latitude IS NULL \n",
    "        OR loc.latitude = ''\n",
    "        OR loc.longitude IS NULL\n",
    "        OR loc.longitude = '';"
   ]
  },
  {
   "cell_type": "code",
   "execution_count": 12,
   "metadata": {},
   "outputs": [
    {
     "name": "stdout",
     "output_type": "stream",
     "text": [
      " * sqlite:///./farmersmarkets.db\n",
      "Done.\n"
     ]
    },
    {
     "data": {
      "text/html": [
       "<table>\n",
       "    <tr>\n",
       "        <th>FMID</th>\n",
       "        <th>MarketName</th>\n",
       "        <th>street</th>\n",
       "        <th>City</th>\n",
       "        <th>County</th>\n",
       "        <th>State</th>\n",
       "        <th>zip</th>\n",
       "        <th>latitude</th>\n",
       "        <th>longitude</th>\n",
       "        <th>updateTime</th>\n",
       "    </tr>\n",
       "</table>"
      ],
      "text/plain": [
       "[]"
      ]
     },
     "execution_count": 12,
     "metadata": {},
     "output_type": "execute_result"
    }
   ],
   "source": [
    "%%sql\n",
    "SELECT *\n",
    "FROM location loc\n",
    "WHERE loc.State IS NULL OR loc.State = '';"
   ]
  },
  {
   "cell_type": "code",
   "execution_count": 13,
   "metadata": {},
   "outputs": [
    {
     "name": "stdout",
     "output_type": "stream",
     "text": [
      " * sqlite:///./farmersmarkets.db\n",
      "Done.\n"
     ]
    },
    {
     "data": {
      "text/html": [
       "<table>\n",
       "    <tr>\n",
       "        <th>FMID</th>\n",
       "        <th>Credit</th>\n",
       "        <th>WIC</th>\n",
       "        <th>WICcash</th>\n",
       "        <th>SFMNP</th>\n",
       "        <th>SNAP</th>\n",
       "    </tr>\n",
       "</table>"
      ],
      "text/plain": [
       "[]"
      ]
     },
     "execution_count": 13,
     "metadata": {},
     "output_type": "execute_result"
    }
   ],
   "source": [
    "%%sql\n",
    "SELECT *\n",
    "FROM Payments pay\n",
    "WHERE pay.Credit IS NULL OR pay.Credit = '';"
   ]
  },
  {
   "cell_type": "markdown",
   "metadata": {},
   "source": [
    "### 3. Check that latitude must be in [0,90] and longitude should be [-180, 180]\n",
    "Looks good."
   ]
  },
  {
   "cell_type": "code",
   "execution_count": 14,
   "metadata": {},
   "outputs": [
    {
     "name": "stdout",
     "output_type": "stream",
     "text": [
      " * sqlite:///./farmersmarkets.db\n",
      "Done.\n"
     ]
    },
    {
     "data": {
      "text/html": [
       "<table>\n",
       "    <tr>\n",
       "        <th>FMID</th>\n",
       "        <th>MarketName</th>\n",
       "        <th>latitude</th>\n",
       "        <th>longitude</th>\n",
       "    </tr>\n",
       "</table>"
      ],
      "text/plain": [
       "[]"
      ]
     },
     "execution_count": 14,
     "metadata": {},
     "output_type": "execute_result"
    }
   ],
   "source": [
    "%%sql\n",
    "SELECT loc.FMID,\n",
    "       loc.MarketName, \n",
    "       loc.latitude, \n",
    "       loc.longitude \n",
    "FROM location loc\n",
    "WHERE  ( Cast(loc.latitude AS FLOAT) > 180 \n",
    "          OR Cast(loc.latitude AS FLOAT) <- 180 \n",
    "          OR Cast(loc.longitude AS FLOAT) < 0 \n",
    "          OR Cast(loc.longitude AS FLOAT) > 90 ) ; "
   ]
  },
  {
   "cell_type": "markdown",
   "metadata": {},
   "source": [
    "### 4. Every FMID has single address (street, City, County, State, zip) if it exists\n",
    "Looks good."
   ]
  },
  {
   "cell_type": "code",
   "execution_count": 15,
   "metadata": {},
   "outputs": [
    {
     "name": "stdout",
     "output_type": "stream",
     "text": [
      " * sqlite:///./farmersmarkets.db\n",
      "Done.\n"
     ]
    },
    {
     "data": {
      "text/html": [
       "<table>\n",
       "    <tr>\n",
       "        <th>FMID</th>\n",
       "        <th>street</th>\n",
       "        <th>City</th>\n",
       "        <th>County</th>\n",
       "        <th>State</th>\n",
       "        <th>zip</th>\n",
       "        <th>count(*)</th>\n",
       "    </tr>\n",
       "</table>"
      ],
      "text/plain": [
       "[]"
      ]
     },
     "execution_count": 15,
     "metadata": {},
     "output_type": "execute_result"
    }
   ],
   "source": [
    "%%sql\n",
    "SELECT\n",
    "    FMID, street, City, County, State, zip, count(*)\n",
    "FROM\n",
    "    location\n",
    "GROUP BY\n",
    "    FMID, street, City, County, State, zip\n",
    "HAVING \n",
    "    COUNT(*) > 1"
   ]
  },
  {
   "cell_type": "code",
   "execution_count": null,
   "metadata": {},
   "outputs": [],
   "source": []
  },
  {
   "cell_type": "code",
   "execution_count": null,
   "metadata": {},
   "outputs": [],
   "source": []
  }
 ],
 "metadata": {
  "kernelspec": {
   "display_name": "Python 3 (ipykernel)",
   "language": "python",
   "name": "python3"
  },
  "language_info": {
   "codemirror_mode": {
    "name": "ipython",
    "version": 3
   },
   "file_extension": ".py",
   "mimetype": "text/x-python",
   "name": "python",
   "nbconvert_exporter": "python",
   "pygments_lexer": "ipython3",
   "version": "3.9.7"
  }
 },
 "nbformat": 4,
 "nbformat_minor": 2
}
